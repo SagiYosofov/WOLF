{
  "nbformat": 4,
  "nbformat_minor": 0,
  "metadata": {
    "colab": {
      "provenance": []
    },
    "kernelspec": {
      "name": "python3",
      "display_name": "Python 3"
    },
    "language_info": {
      "name": "python"
    },
    "widgets": {
      "application/vnd.jupyter.widget-state+json": {
        "3d11474001aa48f08cee0ff3fb7d8b85": {
          "model_module": "@jupyter-widgets/controls",
          "model_name": "DropdownModel",
          "model_module_version": "1.5.0",
          "state": {
            "_dom_classes": [],
            "_model_module": "@jupyter-widgets/controls",
            "_model_module_version": "1.5.0",
            "_model_name": "DropdownModel",
            "_options_labels": [
              "Sagie",
              "Daniel",
              "Arthur",
              "Aviv",
              "Ilya"
            ],
            "_view_count": null,
            "_view_module": "@jupyter-widgets/controls",
            "_view_module_version": "1.5.0",
            "_view_name": "DropdownView",
            "description": "First name:",
            "description_tooltip": null,
            "disabled": false,
            "index": 0,
            "layout": "IPY_MODEL_9a02cd2e5b944f30875cc6ac370ebabb",
            "style": "IPY_MODEL_19e828cdea294837827de4bee9566a5a"
          }
        },
        "9a02cd2e5b944f30875cc6ac370ebabb": {
          "model_module": "@jupyter-widgets/base",
          "model_name": "LayoutModel",
          "model_module_version": "1.2.0",
          "state": {
            "_model_module": "@jupyter-widgets/base",
            "_model_module_version": "1.2.0",
            "_model_name": "LayoutModel",
            "_view_count": null,
            "_view_module": "@jupyter-widgets/base",
            "_view_module_version": "1.2.0",
            "_view_name": "LayoutView",
            "align_content": null,
            "align_items": null,
            "align_self": null,
            "border": null,
            "bottom": null,
            "display": null,
            "flex": null,
            "flex_flow": null,
            "grid_area": null,
            "grid_auto_columns": null,
            "grid_auto_flow": null,
            "grid_auto_rows": null,
            "grid_column": null,
            "grid_gap": null,
            "grid_row": null,
            "grid_template_areas": null,
            "grid_template_columns": null,
            "grid_template_rows": null,
            "height": null,
            "justify_content": null,
            "justify_items": null,
            "left": null,
            "margin": null,
            "max_height": null,
            "max_width": null,
            "min_height": null,
            "min_width": null,
            "object_fit": null,
            "object_position": null,
            "order": null,
            "overflow": null,
            "overflow_x": null,
            "overflow_y": null,
            "padding": null,
            "right": null,
            "top": null,
            "visibility": null,
            "width": "500px"
          }
        },
        "19e828cdea294837827de4bee9566a5a": {
          "model_module": "@jupyter-widgets/controls",
          "model_name": "DescriptionStyleModel",
          "model_module_version": "1.5.0",
          "state": {
            "_model_module": "@jupyter-widgets/controls",
            "_model_module_version": "1.5.0",
            "_model_name": "DescriptionStyleModel",
            "_view_count": null,
            "_view_module": "@jupyter-widgets/base",
            "_view_module_version": "1.2.0",
            "_view_name": "StyleView",
            "description_width": ""
          }
        },
        "e84fed87a3bb4efabf54ff9c1909feab": {
          "model_module": "@jupyter-widgets/controls",
          "model_name": "TextModel",
          "model_module_version": "1.5.0",
          "state": {
            "_dom_classes": [],
            "_model_module": "@jupyter-widgets/controls",
            "_model_module_version": "1.5.0",
            "_model_name": "TextModel",
            "_view_count": null,
            "_view_module": "@jupyter-widgets/controls",
            "_view_module_version": "1.5.0",
            "_view_name": "TextView",
            "continuous_update": true,
            "description": "Last name:",
            "description_tooltip": null,
            "disabled": true,
            "layout": "IPY_MODEL_418dbd02986d4798beb8f6515d078940",
            "placeholder": "​",
            "style": "IPY_MODEL_e4b7ec9da6814d919a1574d25f44248e",
            "value": "Yosofov"
          }
        },
        "418dbd02986d4798beb8f6515d078940": {
          "model_module": "@jupyter-widgets/base",
          "model_name": "LayoutModel",
          "model_module_version": "1.2.0",
          "state": {
            "_model_module": "@jupyter-widgets/base",
            "_model_module_version": "1.2.0",
            "_model_name": "LayoutModel",
            "_view_count": null,
            "_view_module": "@jupyter-widgets/base",
            "_view_module_version": "1.2.0",
            "_view_name": "LayoutView",
            "align_content": null,
            "align_items": null,
            "align_self": null,
            "border": null,
            "bottom": null,
            "display": null,
            "flex": null,
            "flex_flow": null,
            "grid_area": null,
            "grid_auto_columns": null,
            "grid_auto_flow": null,
            "grid_auto_rows": null,
            "grid_column": null,
            "grid_gap": null,
            "grid_row": null,
            "grid_template_areas": null,
            "grid_template_columns": null,
            "grid_template_rows": null,
            "height": null,
            "justify_content": null,
            "justify_items": null,
            "left": null,
            "margin": null,
            "max_height": null,
            "max_width": null,
            "min_height": null,
            "min_width": null,
            "object_fit": null,
            "object_position": null,
            "order": null,
            "overflow": null,
            "overflow_x": null,
            "overflow_y": null,
            "padding": null,
            "right": null,
            "top": null,
            "visibility": null,
            "width": "500px"
          }
        },
        "e4b7ec9da6814d919a1574d25f44248e": {
          "model_module": "@jupyter-widgets/controls",
          "model_name": "DescriptionStyleModel",
          "model_module_version": "1.5.0",
          "state": {
            "_model_module": "@jupyter-widgets/controls",
            "_model_module_version": "1.5.0",
            "_model_name": "DescriptionStyleModel",
            "_view_count": null,
            "_view_module": "@jupyter-widgets/base",
            "_view_module_version": "1.2.0",
            "_view_name": "StyleView",
            "description_width": ""
          }
        },
        "a742fe6939d94476923354c51b82b832": {
          "model_module": "@jupyter-widgets/controls",
          "model_name": "TextModel",
          "model_module_version": "1.5.0",
          "state": {
            "_dom_classes": [],
            "_model_module": "@jupyter-widgets/controls",
            "_model_module_version": "1.5.0",
            "_model_name": "TextModel",
            "_view_count": null,
            "_view_module": "@jupyter-widgets/controls",
            "_view_module_version": "1.5.0",
            "_view_name": "TextView",
            "continuous_update": true,
            "description": "Email:",
            "description_tooltip": null,
            "disabled": true,
            "layout": "IPY_MODEL_697e0f941a644869b6df9c65e69c89e3",
            "placeholder": "​",
            "style": "IPY_MODEL_2c23ac3b0d8e43789eb13c605a876e8e",
            "value": "Sagi.Yosofov@e.braude.ac.il"
          }
        },
        "697e0f941a644869b6df9c65e69c89e3": {
          "model_module": "@jupyter-widgets/base",
          "model_name": "LayoutModel",
          "model_module_version": "1.2.0",
          "state": {
            "_model_module": "@jupyter-widgets/base",
            "_model_module_version": "1.2.0",
            "_model_name": "LayoutModel",
            "_view_count": null,
            "_view_module": "@jupyter-widgets/base",
            "_view_module_version": "1.2.0",
            "_view_name": "LayoutView",
            "align_content": null,
            "align_items": null,
            "align_self": null,
            "border": null,
            "bottom": null,
            "display": null,
            "flex": null,
            "flex_flow": null,
            "grid_area": null,
            "grid_auto_columns": null,
            "grid_auto_flow": null,
            "grid_auto_rows": null,
            "grid_column": null,
            "grid_gap": null,
            "grid_row": null,
            "grid_template_areas": null,
            "grid_template_columns": null,
            "grid_template_rows": null,
            "height": null,
            "justify_content": null,
            "justify_items": null,
            "left": null,
            "margin": null,
            "max_height": null,
            "max_width": null,
            "min_height": null,
            "min_width": null,
            "object_fit": null,
            "object_position": null,
            "order": null,
            "overflow": null,
            "overflow_x": null,
            "overflow_y": null,
            "padding": null,
            "right": null,
            "top": null,
            "visibility": null,
            "width": "500px"
          }
        },
        "2c23ac3b0d8e43789eb13c605a876e8e": {
          "model_module": "@jupyter-widgets/controls",
          "model_name": "DescriptionStyleModel",
          "model_module_version": "1.5.0",
          "state": {
            "_model_module": "@jupyter-widgets/controls",
            "_model_module_version": "1.5.0",
            "_model_name": "DescriptionStyleModel",
            "_view_count": null,
            "_view_module": "@jupyter-widgets/base",
            "_view_module_version": "1.2.0",
            "_view_name": "StyleView",
            "description_width": ""
          }
        },
        "e238d3fd166f40e2bcaf69e464965052": {
          "model_module": "@jupyter-widgets/controls",
          "model_name": "TextModel",
          "model_module_version": "1.5.0",
          "state": {
            "_dom_classes": [],
            "_model_module": "@jupyter-widgets/controls",
            "_model_module_version": "1.5.0",
            "_model_name": "TextModel",
            "_view_count": null,
            "_view_module": "@jupyter-widgets/controls",
            "_view_module_version": "1.5.0",
            "_view_name": "TextView",
            "continuous_update": true,
            "description": "Courses:",
            "description_tooltip": null,
            "disabled": true,
            "layout": "IPY_MODEL_13db6446b1924ac88e47187d14688ed7",
            "placeholder": "​",
            "style": "IPY_MODEL_fbc257cb3cec4250b7f726e1878bd4ac",
            "value": "Course1, Course2, Course 3, Course 4, Course 5"
          }
        },
        "13db6446b1924ac88e47187d14688ed7": {
          "model_module": "@jupyter-widgets/base",
          "model_name": "LayoutModel",
          "model_module_version": "1.2.0",
          "state": {
            "_model_module": "@jupyter-widgets/base",
            "_model_module_version": "1.2.0",
            "_model_name": "LayoutModel",
            "_view_count": null,
            "_view_module": "@jupyter-widgets/base",
            "_view_module_version": "1.2.0",
            "_view_name": "LayoutView",
            "align_content": null,
            "align_items": null,
            "align_self": null,
            "border": null,
            "bottom": null,
            "display": null,
            "flex": null,
            "flex_flow": null,
            "grid_area": null,
            "grid_auto_columns": null,
            "grid_auto_flow": null,
            "grid_auto_rows": null,
            "grid_column": null,
            "grid_gap": null,
            "grid_row": null,
            "grid_template_areas": null,
            "grid_template_columns": null,
            "grid_template_rows": null,
            "height": null,
            "justify_content": null,
            "justify_items": null,
            "left": null,
            "margin": null,
            "max_height": null,
            "max_width": null,
            "min_height": null,
            "min_width": null,
            "object_fit": null,
            "object_position": null,
            "order": null,
            "overflow": null,
            "overflow_x": null,
            "overflow_y": null,
            "padding": null,
            "right": null,
            "top": null,
            "visibility": null,
            "width": "500px"
          }
        },
        "fbc257cb3cec4250b7f726e1878bd4ac": {
          "model_module": "@jupyter-widgets/controls",
          "model_name": "DescriptionStyleModel",
          "model_module_version": "1.5.0",
          "state": {
            "_model_module": "@jupyter-widgets/controls",
            "_model_module_version": "1.5.0",
            "_model_name": "DescriptionStyleModel",
            "_view_count": null,
            "_view_module": "@jupyter-widgets/base",
            "_view_module_version": "1.2.0",
            "_view_name": "StyleView",
            "description_width": ""
          }
        },
        "658f06acc3dd44179221a57a60f15f61": {
          "model_module": "@jupyter-widgets/controls",
          "model_name": "TextModel",
          "model_module_version": "1.5.0",
          "state": {
            "_dom_classes": [],
            "_model_module": "@jupyter-widgets/controls",
            "_model_module_version": "1.5.0",
            "_model_name": "TextModel",
            "_view_count": null,
            "_view_module": "@jupyter-widgets/controls",
            "_view_module_version": "1.5.0",
            "_view_name": "TextView",
            "continuous_update": true,
            "description": "Link:",
            "description_tooltip": null,
            "disabled": true,
            "layout": "IPY_MODEL_95c1db83b3254de6b84192b49fe6cad3",
            "placeholder": "​",
            "style": "IPY_MODEL_e3b48f5f67a441e3b146253130ffecff",
            "value": "https://link1.com"
          }
        },
        "95c1db83b3254de6b84192b49fe6cad3": {
          "model_module": "@jupyter-widgets/base",
          "model_name": "LayoutModel",
          "model_module_version": "1.2.0",
          "state": {
            "_model_module": "@jupyter-widgets/base",
            "_model_module_version": "1.2.0",
            "_model_name": "LayoutModel",
            "_view_count": null,
            "_view_module": "@jupyter-widgets/base",
            "_view_module_version": "1.2.0",
            "_view_name": "LayoutView",
            "align_content": null,
            "align_items": null,
            "align_self": null,
            "border": null,
            "bottom": null,
            "display": null,
            "flex": null,
            "flex_flow": null,
            "grid_area": null,
            "grid_auto_columns": null,
            "grid_auto_flow": null,
            "grid_auto_rows": null,
            "grid_column": null,
            "grid_gap": null,
            "grid_row": null,
            "grid_template_areas": null,
            "grid_template_columns": null,
            "grid_template_rows": null,
            "height": null,
            "justify_content": null,
            "justify_items": null,
            "left": null,
            "margin": null,
            "max_height": null,
            "max_width": null,
            "min_height": null,
            "min_width": null,
            "object_fit": null,
            "object_position": null,
            "order": null,
            "overflow": null,
            "overflow_x": null,
            "overflow_y": null,
            "padding": null,
            "right": null,
            "top": null,
            "visibility": null,
            "width": "500px"
          }
        },
        "e3b48f5f67a441e3b146253130ffecff": {
          "model_module": "@jupyter-widgets/controls",
          "model_name": "DescriptionStyleModel",
          "model_module_version": "1.5.0",
          "state": {
            "_model_module": "@jupyter-widgets/controls",
            "_model_module_version": "1.5.0",
            "_model_name": "DescriptionStyleModel",
            "_view_count": null,
            "_view_module": "@jupyter-widgets/base",
            "_view_module_version": "1.2.0",
            "_view_name": "StyleView",
            "description_width": ""
          }
        },
        "b85abdc454424e0db9d1280af10e1acd": {
          "model_module": "@jupyter-widgets/controls",
          "model_name": "TextModel",
          "model_module_version": "1.5.0",
          "state": {
            "_dom_classes": [],
            "_model_module": "@jupyter-widgets/controls",
            "_model_module_version": "1.5.0",
            "_model_name": "TextModel",
            "_view_count": null,
            "_view_module": "@jupyter-widgets/controls",
            "_view_module_version": "1.5.0",
            "_view_name": "TextView",
            "continuous_update": true,
            "description": "Favorite Show:",
            "description_tooltip": null,
            "disabled": false,
            "layout": "IPY_MODEL_7d2d514b0fd44e8e8297a0ac466282ce",
            "placeholder": "​",
            "style": "IPY_MODEL_f7aef916263048d498d46c9ec4ce9c7b",
            "value": "Picky Blinders"
          }
        },
        "7d2d514b0fd44e8e8297a0ac466282ce": {
          "model_module": "@jupyter-widgets/base",
          "model_name": "LayoutModel",
          "model_module_version": "1.2.0",
          "state": {
            "_model_module": "@jupyter-widgets/base",
            "_model_module_version": "1.2.0",
            "_model_name": "LayoutModel",
            "_view_count": null,
            "_view_module": "@jupyter-widgets/base",
            "_view_module_version": "1.2.0",
            "_view_name": "LayoutView",
            "align_content": null,
            "align_items": null,
            "align_self": null,
            "border": null,
            "bottom": null,
            "display": null,
            "flex": null,
            "flex_flow": null,
            "grid_area": null,
            "grid_auto_columns": null,
            "grid_auto_flow": null,
            "grid_auto_rows": null,
            "grid_column": null,
            "grid_gap": null,
            "grid_row": null,
            "grid_template_areas": null,
            "grid_template_columns": null,
            "grid_template_rows": null,
            "height": null,
            "justify_content": null,
            "justify_items": null,
            "left": null,
            "margin": null,
            "max_height": null,
            "max_width": null,
            "min_height": null,
            "min_width": null,
            "object_fit": null,
            "object_position": null,
            "order": null,
            "overflow": null,
            "overflow_x": null,
            "overflow_y": null,
            "padding": null,
            "right": null,
            "top": null,
            "visibility": null,
            "width": "500px"
          }
        },
        "f7aef916263048d498d46c9ec4ce9c7b": {
          "model_module": "@jupyter-widgets/controls",
          "model_name": "DescriptionStyleModel",
          "model_module_version": "1.5.0",
          "state": {
            "_model_module": "@jupyter-widgets/controls",
            "_model_module_version": "1.5.0",
            "_model_name": "DescriptionStyleModel",
            "_view_count": null,
            "_view_module": "@jupyter-widgets/base",
            "_view_module_version": "1.2.0",
            "_view_name": "StyleView",
            "description_width": ""
          }
        },
        "347c93c6f89548c690566f83f393e074": {
          "model_module": "@jupyter-widgets/controls",
          "model_name": "ButtonModel",
          "model_module_version": "1.5.0",
          "state": {
            "_dom_classes": [],
            "_model_module": "@jupyter-widgets/controls",
            "_model_module_version": "1.5.0",
            "_model_name": "ButtonModel",
            "_view_count": null,
            "_view_module": "@jupyter-widgets/controls",
            "_view_module_version": "1.5.0",
            "_view_name": "ButtonView",
            "button_style": "",
            "description": "Approve",
            "disabled": false,
            "icon": "",
            "layout": "IPY_MODEL_5cbf1cc16ab148adb9a905c36e52d6a9",
            "style": "IPY_MODEL_1ce1e8385c2243d59421fba7d02c2033",
            "tooltip": ""
          }
        },
        "5cbf1cc16ab148adb9a905c36e52d6a9": {
          "model_module": "@jupyter-widgets/base",
          "model_name": "LayoutModel",
          "model_module_version": "1.2.0",
          "state": {
            "_model_module": "@jupyter-widgets/base",
            "_model_module_version": "1.2.0",
            "_model_name": "LayoutModel",
            "_view_count": null,
            "_view_module": "@jupyter-widgets/base",
            "_view_module_version": "1.2.0",
            "_view_name": "LayoutView",
            "align_content": null,
            "align_items": null,
            "align_self": null,
            "border": null,
            "bottom": null,
            "display": null,
            "flex": null,
            "flex_flow": null,
            "grid_area": null,
            "grid_auto_columns": null,
            "grid_auto_flow": null,
            "grid_auto_rows": null,
            "grid_column": null,
            "grid_gap": null,
            "grid_row": null,
            "grid_template_areas": null,
            "grid_template_columns": null,
            "grid_template_rows": null,
            "height": null,
            "justify_content": null,
            "justify_items": null,
            "left": null,
            "margin": "20px 0 0 0",
            "max_height": null,
            "max_width": null,
            "min_height": null,
            "min_width": null,
            "object_fit": null,
            "object_position": null,
            "order": null,
            "overflow": null,
            "overflow_x": null,
            "overflow_y": null,
            "padding": null,
            "right": null,
            "top": null,
            "visibility": null,
            "width": "200px"
          }
        },
        "1ce1e8385c2243d59421fba7d02c2033": {
          "model_module": "@jupyter-widgets/controls",
          "model_name": "ButtonStyleModel",
          "model_module_version": "1.5.0",
          "state": {
            "_model_module": "@jupyter-widgets/controls",
            "_model_module_version": "1.5.0",
            "_model_name": "ButtonStyleModel",
            "_view_count": null,
            "_view_module": "@jupyter-widgets/base",
            "_view_module_version": "1.2.0",
            "_view_name": "StyleView",
            "button_color": null,
            "font_weight": ""
          }
        }
      }
    }
  },
  "cells": [
    {
      "cell_type": "markdown",
      "source": [
        "# ***Section 1***"
      ],
      "metadata": {
        "id": "6_UVb_EzgONt"
      }
    },
    {
      "cell_type": "code",
      "execution_count": null,
      "metadata": {
        "id": "zOYsFB3y5koj",
        "colab": {
          "base_uri": "https://localhost:8080/"
        },
        "outputId": "0ce3d900-b648-4c6c-b749-0d80957f3b40"
      },
      "outputs": [
        {
          "output_type": "stream",
          "name": "stdout",
          "text": [
            "Drive already mounted at /content/drive; to attempt to forcibly remount, call drive.mount(\"/content/drive\", force_remount=True).\n",
            "/content/drive/MyDrive/Colab Notebooks/Cloud Computing Intro\n"
          ]
        }
      ],
      "source": [
        "import json\n",
        "from google.colab import drive\n",
        "\n",
        "#connect to google drive\n",
        "drive.mount('/content/drive')\n",
        "%cd /content/drive/MyDrive/Colab\\ Notebooks/Cloud\\ Computing\\ Intro\n",
        "\n",
        "\n",
        "# Defining the student data as a dictionary -> there is one key: \"students\" with one value -> a list that contains 4 python ditionaries\n",
        "# Each dictionary inside the list represents a student, with 5 keys : their first name, last name, email, courses list, and a link.\n",
        "students_data = {\n",
        "    \"students\": [\n",
        "        {\n",
        "            \"first name\": \"Sagie\",\n",
        "            \"last name\": \"Yosofov\",\n",
        "            \"email\": \"Sagi.Yosofov@e.braude.ac.il\",\n",
        "            \"courses\": [\"Course1\", \"Course2\", \"Course 3\", \"Course 4\", \"Course 5\"],\n",
        "            \"link\": \"https://link1.com\"\n",
        "        },\n",
        "        {\n",
        "            \"first name\": \"Daniel\",\n",
        "            \"last name\": \"Feldman\",\n",
        "            \"email\": \"Daniel.Feldman@e.braude.ac.il\",\n",
        "            \"courses\": [\"Course 1\", \"Course 2\", \"Course 3\", \"Course 4\"],\n",
        "            \"link\": \"https://link2.com\"\n",
        "        },\n",
        "        {\n",
        "            \"first name\": \"Arthur\",\n",
        "            \"last name\": \"Cherny\",\n",
        "            \"email\": \"Arthur.Cherny@e.braude.ac.il\",\n",
        "            \"courses\": [\"Course 1\", \"Course 2\", \"Course 3\"],\n",
        "            \"link\": \"https://link3.com\"\n",
        "        },\n",
        "        {\n",
        "            \"first name\": \"Aviv\",\n",
        "            \"last name\": \"Raz\",\n",
        "            \"email\": \"Aviv.Raz@e.braude.ac.il\",\n",
        "            \"courses\": [\"Course 1\", \"Course 2\", \"Course 3\", \"Course 4\", \"Course 5\", \"Course 6\"],\n",
        "            \"link\": \"https://link4.com\"\n",
        "        },\n",
        "        {\n",
        "            \"first name\": \"Ilya\",\n",
        "            \"last name\": \"Teamate\",\n",
        "            \"email\": \"Ilya.Teamate@e.braude.ac.il\",\n",
        "            \"courses\": [\"Course 1\", \"Course 2\", \"Course 3\", \"Course 4\"],\n",
        "            \"link\": \"https://link5.com\"\n",
        "        }\n",
        "    ]\n",
        "}\n",
        "\n",
        "file_name = 'students.json'\n",
        "\n",
        "# creating/opening json file with the name 'students.json' in the wanted directory and write to it jason formatted content\n",
        "with open(file_name , 'w') as file:\n",
        "    json.dump(students_data, file, indent=4)\n"
      ]
    },
    {
      "cell_type": "markdown",
      "source": [
        "# ***Section 2 - get data from json file***"
      ],
      "metadata": {
        "id": "r9rkffdSmMat"
      }
    },
    {
      "cell_type": "code",
      "source": [
        "# Read the JSON file into a dictionary\n",
        "with open(file_name, \"r\") as file:\n",
        "    students_dict = json.load(file)\n",
        "\n",
        "# Display the loaded student data (for debugging or confirmation)\n",
        "for student in students_dict[\"students\"]:\n",
        "    print(student)"
      ],
      "metadata": {
        "colab": {
          "base_uri": "https://localhost:8080/"
        },
        "id": "c9rcX5-5mMA5",
        "outputId": "97d940f9-a63c-4967-90d5-33dba149aa82"
      },
      "execution_count": null,
      "outputs": [
        {
          "output_type": "stream",
          "name": "stdout",
          "text": [
            "{'first name': 'Sagie', 'last name': 'Yosofov', 'email': 'Sagi.Yosofov@e.braude.ac.il', 'courses': ['Course1', 'Course2', 'Course 3', 'Course 4', 'Course 5'], 'link': 'https://link1.com'}\n",
            "{'first name': 'Daniel', 'last name': 'Feldman', 'email': 'Daniel.Feldman@e.braude.ac.il', 'courses': ['Course 1', 'Course 2', 'Course 3', 'Course 4'], 'link': 'https://link2.com'}\n",
            "{'first name': 'Arthur', 'last name': 'Cherny', 'email': 'Arthur.Cherny@e.braude.ac.il', 'courses': ['Course 1', 'Course 2', 'Course 3'], 'link': 'https://link3.com'}\n",
            "{'first name': 'Aviv', 'last name': 'Raz', 'email': 'Aviv.Raz@e.braude.ac.il', 'courses': ['Course 1', 'Course 2', 'Course 3', 'Course 4', 'Course 5', 'Course 6'], 'link': 'https://link4.com'}\n",
            "{'first name': 'Ilya', 'last name': 'Teamate', 'email': 'Ilya.Teamate@e.braude.ac.il', 'courses': ['Course 1', 'Course 2', 'Course 3', 'Course 4'], 'link': 'https://link5.com'}\n"
          ]
        }
      ]
    },
    {
      "cell_type": "markdown",
      "source": [
        "# ***Utility functions***"
      ],
      "metadata": {
        "id": "cr8IyCs17bgP"
      }
    },
    {
      "cell_type": "code",
      "source": [
        "def findStudentByFirstName(studentsList, selected_first_name):\n",
        "    for student in studentsList:\n",
        "        if student[\"first name\"] == selected_first_name:\n",
        "            return student\n",
        "    return None  # Return None if no student is found\n",
        "\n",
        "def updateForm(student):\n",
        "  last_name_field.value = student[\"last name\"]\n",
        "  email_field.value = student[\"email\"]\n",
        "  # Update the courses_field with the student's courses (joined as a string), courses is a list in ths json file\n",
        "  courses_field.value = \", \".join(student['courses'])\n",
        "  link_field.value = student[\"link\"]\n"
      ],
      "metadata": {
        "id": "dhf86hga7hE9"
      },
      "execution_count": null,
      "outputs": []
    },
    {
      "cell_type": "code",
      "source": [],
      "metadata": {
        "id": "y7ACoxKk7e09"
      },
      "execution_count": null,
      "outputs": []
    },
    {
      "cell_type": "markdown",
      "source": [
        "# ***Create Form using Widgets***"
      ],
      "metadata": {
        "id": "dk1zeMQ-oDPa"
      }
    },
    {
      "cell_type": "code",
      "source": [
        "import ipywidgets as widgets\n",
        "from IPython.display import display\n",
        "\n",
        "# Create a dropdown menu for selecting a student's first name\n",
        "student_first_names = [student[\"first name\"] for student in students_dict[\"students\"]] # create an array that contains all the students' first names\n",
        "student_dropdown = widgets.Dropdown(\n",
        "    options=student_first_names,\n",
        "    description='First name:',\n",
        "    disabled=False,  # The widget is interactive, and the user can select or modify values.\n",
        "    layout=widgets.Layout(width='500px')  # Makes the text field wider\n",
        ")\n",
        "\n",
        "# Create text fields for student details\n",
        "last_name_field = widgets.Text(description='Last name:',disabled=True, layout=widgets.Layout(width='500px'))\n",
        "email_field = widgets.Text(description='Email:',disabled=True, layout=widgets.Layout(width='500px'))\n",
        "courses_field = widgets.Text(description='Courses:', disabled=True, layout=widgets.Layout(width='500px'))\n",
        "link_field = widgets.Text(description='Link:', disabled=True, layout=widgets.Layout(width='500px'))\n",
        "favorite_show_field = widgets.Text(description='Favorite Show:', disabled=False, layout=widgets.Layout(width='500px'))\n",
        "\n",
        "# Create the \"Approve\" button with a little margin (top space) to make it lower\n",
        "approve_button = widgets.Button(description=\"Approve\", layout=widgets.Layout(width='200px', margin='20px 0 0 0'))\n",
        "\n",
        "# Function to update the form based on selected student first name\n",
        "def on_student_select(change):\n",
        "    selected_first_name = change['new']\n",
        "    student = findStudentByFirstName(students_dict[\"students\"], selected_first_name)\n",
        "    if(student != None):\n",
        "      updateForm(student)\n",
        "    else:\n",
        "      print(\"Error -> Student not found\")\n",
        "\n",
        "# Function to handle the \"Approve\" button click\n",
        "def on_approve_button_click(b):\n",
        "    selected_first_name = student_dropdown.value\n",
        "    favorite_show = favorite_show_field.value\n",
        "\n",
        "    # Check if favorite show is inserted\n",
        "    if favorite_show:\n",
        "      student = findStudentByFirstName(students_dict[\"students\"], selected_first_name)\n",
        "      if(student != None):\n",
        "          # updating dictionary -> add key-value\n",
        "          new_data = {\"Favorite Show\" : favorite_show}\n",
        "          student.update(new_data)\n",
        "          print(student)\n",
        "\n",
        "          # update the json file the new data to the file\n",
        "          with open(file_name, 'w') as file:\n",
        "            json.dump(students_dict, file, indent=4)\n",
        "\n",
        "          print(f\"Data for {selected_first_name} updated with favorite show '{favorite_show}'\")\n",
        "      else:\n",
        "        print(\"Error -> Student not found\")\n",
        "    else:\n",
        "        print(\"Please insert a favorite show.\")\n",
        "\n",
        "# Attach the event handlers\n",
        "student_dropdown.observe(on_student_select, names='value')\n",
        "approve_button.on_click(on_approve_button_click)\n",
        "\n",
        "# Observe changes in the dropdown selection\n",
        "student_dropdown.observe(on_student_select, names='value')\n",
        "\n",
        "# Display the form\n",
        "display(student_dropdown, last_name_field, email_field, courses_field, link_field, favorite_show_field, approve_button)\n",
        "\n",
        "# Manually trigger form population for the initial student -> because if we choose the default student at the beggining it doesn't show his details.\n",
        "on_student_select({'new': students_dict[\"students\"][0][\"first name\"]})"
      ],
      "metadata": {
        "colab": {
          "base_uri": "https://localhost:8080/",
          "height": 319,
          "referenced_widgets": [
            "3d11474001aa48f08cee0ff3fb7d8b85",
            "9a02cd2e5b944f30875cc6ac370ebabb",
            "19e828cdea294837827de4bee9566a5a",
            "e84fed87a3bb4efabf54ff9c1909feab",
            "418dbd02986d4798beb8f6515d078940",
            "e4b7ec9da6814d919a1574d25f44248e",
            "a742fe6939d94476923354c51b82b832",
            "697e0f941a644869b6df9c65e69c89e3",
            "2c23ac3b0d8e43789eb13c605a876e8e",
            "e238d3fd166f40e2bcaf69e464965052",
            "13db6446b1924ac88e47187d14688ed7",
            "fbc257cb3cec4250b7f726e1878bd4ac",
            "658f06acc3dd44179221a57a60f15f61",
            "95c1db83b3254de6b84192b49fe6cad3",
            "e3b48f5f67a441e3b146253130ffecff",
            "b85abdc454424e0db9d1280af10e1acd",
            "7d2d514b0fd44e8e8297a0ac466282ce",
            "f7aef916263048d498d46c9ec4ce9c7b",
            "347c93c6f89548c690566f83f393e074",
            "5cbf1cc16ab148adb9a905c36e52d6a9",
            "1ce1e8385c2243d59421fba7d02c2033"
          ]
        },
        "id": "1uUlSkaXoIus",
        "outputId": "2853d5c7-7838-4352-d87d-383ec91eb1a0"
      },
      "execution_count": null,
      "outputs": [
        {
          "output_type": "display_data",
          "data": {
            "text/plain": [
              "Dropdown(description='First name:', layout=Layout(width='500px'), options=('Sagie', 'Daniel', 'Arthur', 'Aviv'…"
            ],
            "application/vnd.jupyter.widget-view+json": {
              "version_major": 2,
              "version_minor": 0,
              "model_id": "3d11474001aa48f08cee0ff3fb7d8b85"
            }
          },
          "metadata": {}
        },
        {
          "output_type": "display_data",
          "data": {
            "text/plain": [
              "Text(value='', description='Last name:', disabled=True, layout=Layout(width='500px'))"
            ],
            "application/vnd.jupyter.widget-view+json": {
              "version_major": 2,
              "version_minor": 0,
              "model_id": "e84fed87a3bb4efabf54ff9c1909feab"
            }
          },
          "metadata": {}
        },
        {
          "output_type": "display_data",
          "data": {
            "text/plain": [
              "Text(value='', description='Email:', disabled=True, layout=Layout(width='500px'))"
            ],
            "application/vnd.jupyter.widget-view+json": {
              "version_major": 2,
              "version_minor": 0,
              "model_id": "a742fe6939d94476923354c51b82b832"
            }
          },
          "metadata": {}
        },
        {
          "output_type": "display_data",
          "data": {
            "text/plain": [
              "Text(value='', description='Courses:', disabled=True, layout=Layout(width='500px'))"
            ],
            "application/vnd.jupyter.widget-view+json": {
              "version_major": 2,
              "version_minor": 0,
              "model_id": "e238d3fd166f40e2bcaf69e464965052"
            }
          },
          "metadata": {}
        },
        {
          "output_type": "display_data",
          "data": {
            "text/plain": [
              "Text(value='', description='Link:', disabled=True, layout=Layout(width='500px'))"
            ],
            "application/vnd.jupyter.widget-view+json": {
              "version_major": 2,
              "version_minor": 0,
              "model_id": "658f06acc3dd44179221a57a60f15f61"
            }
          },
          "metadata": {}
        },
        {
          "output_type": "display_data",
          "data": {
            "text/plain": [
              "Text(value='', description='Favorite Show:', layout=Layout(width='500px'))"
            ],
            "application/vnd.jupyter.widget-view+json": {
              "version_major": 2,
              "version_minor": 0,
              "model_id": "b85abdc454424e0db9d1280af10e1acd"
            }
          },
          "metadata": {}
        },
        {
          "output_type": "display_data",
          "data": {
            "text/plain": [
              "Button(description='Approve', layout=Layout(margin='20px 0 0 0', width='200px'), style=ButtonStyle())"
            ],
            "application/vnd.jupyter.widget-view+json": {
              "version_major": 2,
              "version_minor": 0,
              "model_id": "347c93c6f89548c690566f83f393e074"
            }
          },
          "metadata": {}
        },
        {
          "output_type": "stream",
          "name": "stdout",
          "text": [
            "Please insert a favorite show.\n",
            "{'first name': 'Sagie', 'last name': 'Yosofov', 'email': 'Sagi.Yosofov@e.braude.ac.il', 'courses': ['Course1', 'Course2', 'Course 3', 'Course 4', 'Course 5'], 'link': 'https://link1.com', 'Favorite Show': 'Picky Blinders'}\n",
            "Data for Sagie updated with favorite show 'Picky Blinders'\n"
          ]
        }
      ]
    }
  ]
}