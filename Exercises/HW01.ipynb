{
  "nbformat": 4,
  "nbformat_minor": 0,
  "metadata": {
    "colab": {
      "provenance": []
    },
    "kernelspec": {
      "name": "python3",
      "display_name": "Python 3"
    },
    "language_info": {
      "name": "python"
    }
  },
  "cells": [
    {
      "cell_type": "markdown",
      "source": [
        "# ***Mount(connecting) Google Drive***"
      ],
      "metadata": {
        "id": "NFNmwKX_d6GL"
      }
    },
    {
      "cell_type": "code",
      "execution_count": null,
      "metadata": {
        "colab": {
          "base_uri": "https://localhost:8080/"
        },
        "id": "uRaK_oegPSv4",
        "outputId": "1fcc8435-24c9-4ebd-afdd-1ae854468f21"
      },
      "outputs": [
        {
          "output_type": "stream",
          "name": "stdout",
          "text": [
            "Drive already mounted at /content/drive; to attempt to forcibly remount, call drive.mount(\"/content/drive\", force_remount=True).\n"
          ]
        }
      ],
      "source": [
        "from google.colab import drive\n",
        "drive.mount('/content/drive')"
      ]
    },
    {
      "cell_type": "markdown",
      "source": [
        "# ***Accessing wanted directory***\n",
        "\n"
      ],
      "metadata": {
        "id": "3ZwXugjsezSk"
      }
    },
    {
      "cell_type": "code",
      "source": [
        "%cd /content/drive/MyDrive/Colab\\ Notebooks/Cloud\\ Computing\\ Intro"
      ],
      "metadata": {
        "colab": {
          "base_uri": "https://localhost:8080/"
        },
        "id": "kkLjReY_e5Cd",
        "outputId": "1092d63d-3be3-40bd-e65e-94fa9c6bfa73"
      },
      "execution_count": null,
      "outputs": [
        {
          "output_type": "stream",
          "name": "stdout",
          "text": [
            "/content/drive/MyDrive/Colab Notebooks/Cloud Computing Intro\n"
          ]
        }
      ]
    },
    {
      "cell_type": "markdown",
      "source": [
        "# ***Open the file and get the data line by line***"
      ],
      "metadata": {
        "id": "sYjgnS01fCFL"
      }
    },
    {
      "cell_type": "code",
      "source": [
        "# we use with statement to ensure the file is properly closed after reading\n",
        "with open('students.txt', 'r') as file:\n",
        "  studentsData = file.readlines()\n",
        "\n",
        "# Clean the data by removing any extra spaces or newline characters\n",
        "studentsData = [line.strip() for line in studentsData if line.strip()]  # Remove empty lines and strip extra spaces\n"
      ],
      "metadata": {
        "collapsed": true,
        "id": "J7HbhORqnlcZ"
      },
      "execution_count": null,
      "outputs": []
    },
    {
      "cell_type": "markdown",
      "source": [
        "# ***Proccess the data***"
      ],
      "metadata": {
        "id": "0V3fEWLp9Eb0"
      }
    },
    {
      "cell_type": "code",
      "source": [
        "# Now process each student entry\n",
        "students_info = []\n",
        "for line in studentsData:\n",
        "    # Split each line by commas to extract the student's information\n",
        "    parts = line.split(\", \")\n",
        "    if len(parts) == 4:\n",
        "        name, email, courses, link = parts\n",
        "        student = {\n",
        "            \"name\": name,\n",
        "            \"email\": email,\n",
        "            \"courses\": courses,\n",
        "            \"link\": link\n",
        "        }\n",
        "        students_info.append(student)\n",
        "\n",
        "# Print the processed student information\n",
        "for student in students_info:\n",
        "    print(student)"
      ],
      "metadata": {
        "colab": {
          "base_uri": "https://localhost:8080/"
        },
        "id": "pygTqHva9IvG",
        "outputId": "b3f7adec-a709-46d3-dbe3-4024f860d171"
      },
      "execution_count": null,
      "outputs": [
        {
          "output_type": "stream",
          "name": "stdout",
          "text": [
            "{'name': 'Sagi Yosipov', 'email': 'Sagi.Yosofov@e.braude.ac.il', 'courses': 'Course1 Course2 Course 3 Course 4 Course 5', 'link': 'https://link1.com'}\n",
            "{'name': 'Daniel Feldman', 'email': 'Daniel.Feldman@e.braude.ac.il', 'courses': 'Course 1 Course 2 Course 3 Course 4', 'link': 'https://link2.com'}\n",
            "{'name': 'Arthur Cherny', 'email': 'Arthur.Cherny@e.braude.ac.il', 'courses': 'Course 1 Course 2 Course 3', 'link': 'https://link3.com'}\n",
            "{'name': 'Aviv Raz', 'email': 'Aviv.Raz@e.braude.ac.il', 'courses': 'Course 1 Course 2 Course 3 Course 4 Course 5 Course 6', 'link': 'https://link4.com'}\n",
            "{'name': 'Ilya Teamate', 'email': 'Ilya.Teamate@e.braude.ac.il', 'courses': 'Course 1 Course 2 Course 3 Course 4', 'link': 'https://link5.com'}\n"
          ]
        }
      ]
    },
    {
      "cell_type": "markdown",
      "source": [
        "# ***Utility functions***"
      ],
      "metadata": {
        "id": "SmBhVrMx8Nha"
      }
    },
    {
      "cell_type": "code",
      "source": [
        "def findStudentByName(studentsList, selected_name):\n",
        "    for student in studentsList:\n",
        "        if student[\"name\"] == selected_name:\n",
        "            return student\n",
        "    return None  # Return None if no student is found\n",
        "\n",
        "def updateForm(student):\n",
        "  email_field.value = student[\"email\"]\n",
        "  # Update the courses_field with the student's courses (joined as a string), courses is a list in ths json file\n",
        "  courses_field.value = student['courses']\n",
        "  link_field.value = student[\"link\"]"
      ],
      "metadata": {
        "id": "sUzaTX5G8QZl"
      },
      "execution_count": null,
      "outputs": []
    },
    {
      "cell_type": "markdown",
      "source": [
        "# ***Create the Form using Widgets***"
      ],
      "metadata": {
        "id": "LV1Nxoj_9OE8"
      }
    },
    {
      "cell_type": "code",
      "source": [
        "import ipywidgets as widgets\n",
        "from IPython.display import display\n",
        "\n",
        "# Create a dropdown menu for selecting a student name\n",
        "student_names = [student[\"name\"] for student in students_info] # create an array that contains all the students' names\n",
        "student_dropdown = widgets.Dropdown(\n",
        "    options=student_names,\n",
        "    description='Student:',\n",
        "    disabled=False,  # The widget is interactive, and the user can select or modify values.\n",
        "    layout=widgets.Layout(width='500px')  # Makes the text field wider\n",
        ")\n",
        "\n",
        "# Create text fields for email, courses, and link\n",
        "email_field = widgets.Text(description='Email:',disabled=True, layout=widgets.Layout(width='500px'))\n",
        "courses_field = widgets.Text(description='Courses:', disabled=True, layout=widgets.Layout(width='500px'))\n",
        "link_field = widgets.Text(description='Link:', disabled=True, layout=widgets.Layout(width='500px'))\n",
        "favorite_show_field = widgets.Text(description='Favorite Show:', disabled=False, layout=widgets.Layout(width='500px'))\n",
        "\n",
        "# Create the \"Approve\" button with a little margin (top space) to make it lower\n",
        "approve_button = widgets.Button(description=\"Approve\", layout=widgets.Layout(width='200px', margin='20px 0 0 0'))\n",
        "\n",
        "# Function to update the form based on selected student\n",
        "def on_student_select(change):\n",
        "    selected_name = change['new']\n",
        "    student = findStudentByName(students_info, selected_name)\n",
        "    if(student != None):\n",
        "        updateForm(student)\n",
        "    else:\n",
        "      print(\"Error -> Student not found\")\n",
        "\n",
        "# Function to handle the \"Approve\" button click\n",
        "def on_approve_button_click(b):\n",
        "    selected_name = student_dropdown.value\n",
        "    favorite_show = favorite_show_field.value\n",
        "\n",
        "    # Check if favorite show is inserted\n",
        "    if favorite_show:\n",
        "        # Create a new line with the student's info and the favorite show\n",
        "        new_data = f\"{selected_name}, {email_field.value}, {courses_field.value}, {link_field.value}, {favorite_show}\\n\"\n",
        "\n",
        "        # Append the new data to the file\n",
        "        with open('students.txt', 'a') as file:\n",
        "            file.write(new_data)\n",
        "\n",
        "        print(f\"Data for {selected_name} updated with favorite show '{favorite_show}'\")\n",
        "    else:\n",
        "        print(\"Please insert a favorite show.\")\n",
        "\n",
        "# Attach the event handlers\n",
        "student_dropdown.observe(on_student_select, names='value')\n",
        "approve_button.on_click(on_approve_button_click)\n",
        "\n",
        "# Observe changes in the dropdown selection\n",
        "student_dropdown.observe(on_student_select, names='value')\n",
        "\n",
        "# Display the form\n",
        "display(student_dropdown, email_field, courses_field, link_field, favorite_show_field, approve_button)\n",
        "\n",
        "# Manually trigger form population for the initial student -> because if we choose the default student at the beggining it doesn't show his details.\n",
        "on_student_select({'new': student_names[0]})"
      ],
      "metadata": {
        "colab": {
          "base_uri": "https://localhost:8080/",
          "height": 211
        },
        "collapsed": true,
        "id": "bcNqLmWGvDSp",
        "outputId": "d6d7032e-d9fe-4c26-86b4-557e2ee238cd"
      },
      "execution_count": null,
      "outputs": [
        {
          "output_type": "error",
          "ename": "NameError",
          "evalue": "name 'students_info' is not defined",
          "traceback": [
            "\u001b[0;31m---------------------------------------------------------------------------\u001b[0m",
            "\u001b[0;31mNameError\u001b[0m                                 Traceback (most recent call last)",
            "\u001b[0;32m<ipython-input-1-724c86c123bb>\u001b[0m in \u001b[0;36m<cell line: 5>\u001b[0;34m()\u001b[0m\n\u001b[1;32m      3\u001b[0m \u001b[0;34m\u001b[0m\u001b[0m\n\u001b[1;32m      4\u001b[0m \u001b[0;31m# Create a dropdown menu for selecting a student name\u001b[0m\u001b[0;34m\u001b[0m\u001b[0;34m\u001b[0m\u001b[0m\n\u001b[0;32m----> 5\u001b[0;31m \u001b[0mstudent_names\u001b[0m \u001b[0;34m=\u001b[0m \u001b[0;34m[\u001b[0m\u001b[0mstudent\u001b[0m\u001b[0;34m[\u001b[0m\u001b[0;34m\"name\"\u001b[0m\u001b[0;34m]\u001b[0m \u001b[0;32mfor\u001b[0m \u001b[0mstudent\u001b[0m \u001b[0;32min\u001b[0m \u001b[0mstudents_info\u001b[0m\u001b[0;34m]\u001b[0m \u001b[0;31m# create an array that contains all the students' names\u001b[0m\u001b[0;34m\u001b[0m\u001b[0;34m\u001b[0m\u001b[0m\n\u001b[0m\u001b[1;32m      6\u001b[0m student_dropdown = widgets.Dropdown(\n\u001b[1;32m      7\u001b[0m     \u001b[0moptions\u001b[0m\u001b[0;34m=\u001b[0m\u001b[0mstudent_names\u001b[0m\u001b[0;34m,\u001b[0m\u001b[0;34m\u001b[0m\u001b[0;34m\u001b[0m\u001b[0m\n",
            "\u001b[0;31mNameError\u001b[0m: name 'students_info' is not defined"
          ]
        }
      ]
    }
  ]
}